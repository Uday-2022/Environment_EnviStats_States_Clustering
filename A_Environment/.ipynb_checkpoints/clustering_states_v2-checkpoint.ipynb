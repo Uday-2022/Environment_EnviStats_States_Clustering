{
 "cells": [
  {
   "cell_type": "markdown",
   "id": "32d32a51",
   "metadata": {
    "tags": [
     "papermill-error-cell-tag"
    ]
   },
   "source": [
    "<span style=\"color:red; font-family:Helvetica Neue, Helvetica, Arial, sans-serif; font-size:2em;\">An Exception was encountered at '<a href=\"#papermill-error-cell\">In [1]</a>'.</span>"
   ]
  },
  {
   "cell_type": "markdown",
   "id": "050b67c0-5c36-4f9c-88e5-8d8cbfb8c1cf",
   "metadata": {
    "papermill": {
     "duration": 0.0,
     "end_time": "2024-09-19T09:00:20.852854",
     "exception": false,
     "start_time": "2024-09-19T09:00:20.852854",
     "status": "completed"
    },
    "tags": []
   },
   "source": [
    "# State wise Clustering based on a Few Industrial & Environment Features"
   ]
  },
  {
   "cell_type": "markdown",
   "id": "b33fa2c1-bf8d-4310-ac7c-5e4fbd9cb288",
   "metadata": {
    "editable": true,
    "papermill": {
     "duration": 0.0,
     "end_time": "2024-09-19T09:00:20.869179",
     "exception": false,
     "start_time": "2024-09-19T09:00:20.869179",
     "status": "completed"
    },
    "slideshow": {
     "slide_type": ""
    },
    "tags": []
   },
   "source": [
    "### State wise Data"
   ]
  },
  {
   "cell_type": "markdown",
   "id": "56c8fd42",
   "metadata": {
    "tags": [
     "papermill-error-cell-tag"
    ]
   },
   "source": [
    "<span id=\"papermill-error-cell\" style=\"color:red; font-family:Helvetica Neue, Helvetica, Arial, sans-serif; font-size:2em;\">Execution using papermill encountered an exception here and stopped:</span>"
   ]
  },
  {
   "cell_type": "code",
   "execution_count": 1,
   "id": "3c8206df-0de8-43e8-876e-0f1bfbb7343e",
   "metadata": {
    "editable": true,
    "execution": {
     "iopub.execute_input": "2024-09-19T09:00:20.891218Z",
     "iopub.status.busy": "2024-09-19T09:00:20.891218Z",
     "iopub.status.idle": "2024-09-19T09:00:21.072568Z",
     "shell.execute_reply": "2024-09-19T09:00:21.072568Z"
    },
    "papermill": {
     "duration": 0.204974,
     "end_time": "2024-09-19T09:00:21.074153",
     "exception": true,
     "start_time": "2024-09-19T09:00:20.869179",
     "status": "failed"
    },
    "slideshow": {
     "slide_type": ""
    },
    "tags": [
     "hide_input"
    ]
   },
   "outputs": [
    {
     "ename": "ModuleNotFoundError",
     "evalue": "No module named 'pandas'",
     "output_type": "error",
     "traceback": [
      "\u001b[1;31m---------------------------------------------------------------------------\u001b[0m",
      "\u001b[1;31mModuleNotFoundError\u001b[0m                       Traceback (most recent call last)",
      "Cell \u001b[1;32mIn[1], line 1\u001b[0m\n\u001b[1;32m----> 1\u001b[0m \u001b[38;5;28;01mimport\u001b[39;00m \u001b[38;5;21;01mpandas\u001b[39;00m \u001b[38;5;28;01mas\u001b[39;00m \u001b[38;5;21;01mpd\u001b[39;00m\n\u001b[0;32m      2\u001b[0m \u001b[38;5;28;01mimport\u001b[39;00m \u001b[38;5;21;01mnumpy\u001b[39;00m \u001b[38;5;28;01mas\u001b[39;00m \u001b[38;5;21;01mnp\u001b[39;00m\n\u001b[0;32m      3\u001b[0m \u001b[38;5;28;01mimport\u001b[39;00m \u001b[38;5;21;01mseaborn\u001b[39;00m \u001b[38;5;28;01mas\u001b[39;00m \u001b[38;5;21;01msns\u001b[39;00m\n",
      "\u001b[1;31mModuleNotFoundError\u001b[0m: No module named 'pandas'"
     ]
    }
   ],
   "source": [
    "import pandas as pd\n",
    "import numpy as np\n",
    "import seaborn as sns\n",
    "import matplotlib.pyplot as plt\n",
    "import glob\n",
    "\n",
    "import plotly.express as px\n",
    "from scipy.stats.mstats import trimmed_var\n",
    "from sklearn.cluster import KMeans\n",
    "from sklearn.decomposition import PCA\n",
    "from sklearn.metrics import silhouette_score\n",
    "from sklearn.pipeline import make_pipeline\n",
    "from sklearn.preprocessing import StandardScaler\n",
    "from sklearn.utils.validation import check_is_fitted\n",
    "from pptx import Presentation\n",
    "from pptx.util import Inches, Pt\n",
    "from pptx.enum.text import PP_ALIGN\n"
   ]
  },
  {
   "cell_type": "code",
   "execution_count": null,
   "id": "8fdc9adf-2cd9-4ff6-9d8a-525da29fff89",
   "metadata": {
    "editable": true,
    "papermill": {
     "duration": null,
     "end_time": null,
     "exception": null,
     "start_time": null,
     "status": "pending"
    },
    "slideshow": {
     "slide_type": ""
    },
    "tags": [
     "hide_input"
    ]
   },
   "outputs": [],
   "source": [
    "def wrangle(filename):\n",
    "    \n",
    "    data = pd.read_excel(filename)\n",
    "    #df.reset_index(inplace=True)\n",
    "    data.columns = data.iloc[0,:]\n",
    "    \n",
    "    data.set_index('State_UTs',inplace=True)\n",
    "    data.drop('State_UTs',axis =0,inplace=True)\n",
    " \n",
    "    data = data.iloc[0:,:]\n",
    "    data = data.astype(int)\n",
    "    \n",
    "    return data"
   ]
  },
  {
   "cell_type": "code",
   "execution_count": null,
   "id": "805e9d76-e007-491e-8f87-2306d9f57067",
   "metadata": {
    "editable": true,
    "papermill": {
     "duration": null,
     "end_time": null,
     "exception": null,
     "start_time": null,
     "status": "pending"
    },
    "scrolled": true,
    "slideshow": {
     "slide_type": ""
    },
    "tags": [
     "hide_input"
    ]
   },
   "outputs": [],
   "source": [
    "# check = pd.read_excel(filename)\n",
    "# check.columns = check.iloc[0,:]\n",
    "# check.set_index('State_UTs',inplace=True)\n",
    "\n",
    "# check.drop('State_UTs',axis =0,inplace=True)\n",
    " \n",
    "# check = check.iloc[0:,:]\n",
    "# check = check.astype(int)\n",
    "# check"
   ]
  },
  {
   "cell_type": "code",
   "execution_count": null,
   "id": "6f48d9eb-5566-4713-a448-9d1af38ed3b5",
   "metadata": {
    "editable": true,
    "papermill": {
     "duration": null,
     "end_time": null,
     "exception": null,
     "start_time": null,
     "status": "pending"
    },
    "scrolled": true,
    "slideshow": {
     "slide_type": ""
    },
    "tags": [
     "hide_input"
    ]
   },
   "outputs": [],
   "source": [
    "filename = 'State_data_environment.xlsx'\n",
    "df = wrangle(filename)\n"
   ]
  },
  {
   "cell_type": "code",
   "execution_count": null,
   "id": "37f7bb83-0477-44e5-b85f-8c48b961f66a",
   "metadata": {
    "editable": true,
    "papermill": {
     "duration": null,
     "end_time": null,
     "exception": null,
     "start_time": null,
     "status": "pending"
    },
    "slideshow": {
     "slide_type": ""
    },
    "tags": [
     "hide_input"
    ]
   },
   "outputs": [],
   "source": [
    "# NIC_data_21_22 = pd.read_excel('Table 5 Estimate of important characteristics by 3 digit of NIC08_2021_2022.xls').T\n",
    "# NIC_data_21_22"
   ]
  },
  {
   "cell_type": "code",
   "execution_count": null,
   "id": "3d0f072e-b435-4011-ab76-760729dac6ae",
   "metadata": {
    "editable": true,
    "papermill": {
     "duration": null,
     "end_time": null,
     "exception": null,
     "start_time": null,
     "status": "pending"
    },
    "slideshow": {
     "slide_type": ""
    },
    "tags": [
     "hide_input"
    ]
   },
   "outputs": [],
   "source": [
    "# NIC_data_21_22.columns = NIC_data_21_22.iloc[0,:]"
   ]
  },
  {
   "cell_type": "code",
   "execution_count": null,
   "id": "daa53331-82d9-4b87-a2ce-3e8009b5f184",
   "metadata": {
    "editable": true,
    "papermill": {
     "duration": null,
     "end_time": null,
     "exception": null,
     "start_time": null,
     "status": "pending"
    },
    "slideshow": {
     "slide_type": ""
    },
    "tags": [
     "hide_input"
    ]
   },
   "outputs": [],
   "source": [
    "# NIC_data_21_22.reset_index(inplace=True)\n",
    "# NIC_data_21_22.set_index('Characteristics',inplace=True)\n"
   ]
  },
  {
   "cell_type": "code",
   "execution_count": null,
   "id": "bf746172-d6c1-40f9-924c-23e2680b6d91",
   "metadata": {
    "editable": true,
    "papermill": {
     "duration": null,
     "end_time": null,
     "exception": null,
     "start_time": null,
     "status": "pending"
    },
    "slideshow": {
     "slide_type": ""
    },
    "tags": [
     "hide_input"
    ]
   },
   "outputs": [],
   "source": [
    "# NIC_data_21_22.drop('Characteristics',axis =0,inplace=True)"
   ]
  },
  {
   "cell_type": "code",
   "execution_count": null,
   "id": "4ea59903-d6e3-4912-8cab-efbf82e5c720",
   "metadata": {
    "editable": true,
    "papermill": {
     "duration": null,
     "end_time": null,
     "exception": null,
     "start_time": null,
     "status": "pending"
    },
    "slideshow": {
     "slide_type": ""
    },
    "tags": [
     "hide_input"
    ]
   },
   "outputs": [],
   "source": [
    "# NIC_data_21_22.drop('25. Addition in Stock of',axis =1,inplace=True)"
   ]
  },
  {
   "cell_type": "code",
   "execution_count": null,
   "id": "30b331f7-489f-4ec6-be8f-a79f3241a270",
   "metadata": {
    "editable": true,
    "papermill": {
     "duration": null,
     "end_time": null,
     "exception": null,
     "start_time": null,
     "status": "pending"
    },
    "slideshow": {
     "slide_type": ""
    },
    "tags": [
     "hide_input"
    ]
   },
   "outputs": [],
   "source": [
    "# NIC_data_21_22 = NIC_data_21_22.iloc[:,4:]"
   ]
  },
  {
   "cell_type": "code",
   "execution_count": null,
   "id": "600cab00-609f-4dfb-b41b-312c3c3d9a79",
   "metadata": {
    "editable": true,
    "papermill": {
     "duration": null,
     "end_time": null,
     "exception": null,
     "start_time": null,
     "status": "pending"
    },
    "slideshow": {
     "slide_type": ""
    },
    "tags": [
     "hide_input"
    ]
   },
   "outputs": [],
   "source": [
    "# NIC_data_21_22.columns = ['Number_of_Factories',\n",
    "#  'Fixed_Capital',\n",
    "#  'Working_Capital',\n",
    "#  'Invested_Capital',\n",
    "#  'Outstanding_Loans',\n",
    "#  'Number_of_Workers',\n",
    "#  'Total_Persons_Engaged',\n",
    "#  'Wages_to_Workers',\n",
    "#  'Total_Emolumnets',\n",
    "#  'Prov_Fund_and_Other_Welfare_Exp',\n",
    "#  'Fuels_Consumed',\n",
    "#  'Materials_Consumed',\n",
    "#  'Total_Inputs',\n",
    "#  'Products_&_By_products',\n",
    "#  'Value_of_Output',\n",
    "#  'Depreciation',\n",
    "#  'Net_Value_Added',\n",
    "#  'Rent_Paid',\n",
    "#  'Interest_Paid',\n",
    "#  'Rent_Received',\n",
    "#  'Interest_Received',\n",
    "#  'Net_Income',\n",
    "#  'Net_Fixed_Capital_Formation',\n",
    "#  'Gross_Fixed_Capital_Formation',\n",
    "#  'Addition_in_Stock_of_Materials_Fuels_etc',\n",
    "#  'Addition_in_Stock_of_Semi_Finished_Goods',\n",
    "#  'Addition_in_Stock_of_Finished_Goods',\n",
    "#  'Addition_in_Stock_of_Total',\n",
    "#  'Gross_Capital_Formation',\n",
    "#  'Net_Profit']\n",
    "# NIC_data_21_22"
   ]
  },
  {
   "cell_type": "code",
   "execution_count": null,
   "id": "50c808b3-2fe4-4ea0-8035-3117760f400d",
   "metadata": {
    "editable": true,
    "papermill": {
     "duration": null,
     "end_time": null,
     "exception": null,
     "start_time": null,
     "status": "pending"
    },
    "scrolled": true,
    "slideshow": {
     "slide_type": ""
    },
    "tags": [
     "hide_input"
    ]
   },
   "outputs": [],
   "source": [
    "df_final = df.iloc[:-1,:]\n"
   ]
  },
  {
   "cell_type": "markdown",
   "id": "bc4efa01-c885-4aa9-8b70-5cdaf38ff53e",
   "metadata": {
    "editable": true,
    "papermill": {
     "duration": null,
     "end_time": null,
     "exception": null,
     "start_time": null,
     "status": "pending"
    },
    "slideshow": {
     "slide_type": ""
    },
    "tags": []
   },
   "source": [
    "The data below shows the latest state-wise data published by the Ministry of Statistics and Programme Implementation (Environment Statistics-2024).\n"
   ]
  },
  {
   "cell_type": "code",
   "execution_count": null,
   "id": "e2eca69e-580a-4c9e-9d7f-ee8125f5ab82",
   "metadata": {
    "editable": true,
    "papermill": {
     "duration": null,
     "end_time": null,
     "exception": null,
     "start_time": null,
     "status": "pending"
    },
    "slideshow": {
     "slide_type": ""
    },
    "tags": [
     "hide_input"
    ]
   },
   "outputs": [],
   "source": [
    "df_final.style.background_gradient(subset=['State_Area_km_sq', 'Energy_Requirement_MU', 'Energy_Supplied_MU',\n",
    "       'Energy_Not_Supplied_MU', 'Polluting_water_industries_total',\n",
    "       'Polluting_water_industries_Complying',\n",
    "       'Polluting_water_industries_Closed',\n",
    "       'Polluting_water_industries_Not_Complying',\n",
    "       'Plastic_Waste_Generation_TPA', 'Corp_exp_Agro_Fores_Sec_rs_lakh',\n",
    "       'Corp_exp_Conserv_Natur_Reso_Sec_rs_lakh',\n",
    "       'Corp_exp_Environ_Sust_Sec_rs_lakh', 'Corp_exp_total_3_sec_rs_lakh',\n",
    "       'Factories_indu', 'Workers_indu'],cmap=\"Blues\")"
   ]
  },
  {
   "cell_type": "markdown",
   "id": "89fd352f-74d2-4d5b-b2ea-c5e8f35d2490",
   "metadata": {
    "editable": true,
    "papermill": {
     "duration": null,
     "end_time": null,
     "exception": null,
     "start_time": null,
     "status": "pending"
    },
    "slideshow": {
     "slide_type": ""
    },
    "tags": []
   },
   "source": [
    "## Visualization"
   ]
  },
  {
   "cell_type": "markdown",
   "id": "5ae13ee8-c638-49b3-b59e-65fdf3236980",
   "metadata": {
    "editable": true,
    "papermill": {
     "duration": null,
     "end_time": null,
     "exception": null,
     "start_time": null,
     "status": "pending"
    },
    "slideshow": {
     "slide_type": ""
    },
    "tags": []
   },
   "source": [
    "### State wise Bar Chart for Features"
   ]
  },
  {
   "cell_type": "code",
   "execution_count": null,
   "id": "171de753-a8ea-4606-9fab-9720e943f6d5",
   "metadata": {
    "editable": true,
    "papermill": {
     "duration": null,
     "end_time": null,
     "exception": null,
     "start_time": null,
     "status": "pending"
    },
    "slideshow": {
     "slide_type": ""
    },
    "tags": [
     "hide_input"
    ]
   },
   "outputs": [],
   "source": [
    "rows = int(len(df_final.columns)/2)+1\n",
    "cols = 2\n",
    "fig, axis = plt.subplots(rows, cols, figsize =(20,80))\n",
    "axis = axis.flatten()\n",
    "\n",
    "for i,col in enumerate(df_final.columns):\n",
    "    df_final[col].sort_values().tail(25).plot(kind=\"barh\", ax = axis[i])\n",
    "    axis[i].set_title(col)\n",
    "plt.tight_layout()\n",
    "#fig.title(\"Top 25 Industries and their attributes\")"
   ]
  },
  {
   "cell_type": "code",
   "execution_count": null,
   "id": "2eb52425-3cdb-4a4b-9184-869b8a94201e",
   "metadata": {
    "editable": true,
    "papermill": {
     "duration": null,
     "end_time": null,
     "exception": null,
     "start_time": null,
     "status": "pending"
    },
    "scrolled": true,
    "slideshow": {
     "slide_type": ""
    },
    "tags": [
     "hide_input"
    ]
   },
   "outputs": [],
   "source": [
    "# corr = df_final.corr(method=\"spearman\")\n",
    "# corr.style.background_gradient(axis=None)"
   ]
  },
  {
   "cell_type": "markdown",
   "id": "2878e743-d384-44fb-a51e-332bb3d9e027",
   "metadata": {
    "editable": true,
    "papermill": {
     "duration": null,
     "end_time": null,
     "exception": null,
     "start_time": null,
     "status": "pending"
    },
    "slideshow": {
     "slide_type": ""
    },
    "tags": []
   },
   "source": [
    "### Bivariate Visualization for All Features"
   ]
  },
  {
   "cell_type": "code",
   "execution_count": null,
   "id": "c882d103-e24c-4e75-aa61-0276aa5805d7",
   "metadata": {
    "editable": true,
    "papermill": {
     "duration": null,
     "end_time": null,
     "exception": null,
     "start_time": null,
     "status": "pending"
    },
    "slideshow": {
     "slide_type": ""
    },
    "tags": [
     "hide_input"
    ]
   },
   "outputs": [],
   "source": [
    "# rows = int(len(df_21_22_prop.columns)/2)\n",
    "# cols = 2\n",
    "# fig, axis = plt.subplots(rows, cols, figsize =(20,80))\n",
    "# axis = axis.flatten()\n",
    "\n",
    "# for i in range(axis):\n",
    "#     for col1 in df_21_22_prop.columns:\n",
    "#         for col2 in df_21_22_prop.columns:\n",
    "#             if col1!=col2:\n",
    "#                 sns.scatterplot(data=df_21_22_prop,x=col1, y=col2,ax=axis[i])\n",
    "#                 plt.xlabel(col1)\n",
    "#                 plt.ylabel(col2)\n",
    "#                 plt.title(f\"Correlation between {col1} and {col2}\")\n",
    "# #plt.tight_layout()\n",
    "\n",
    "# Iterate through the columns of df_scenario1_pct and create a scatter plot for each pair of variables\n",
    "for i in df_final.columns:\n",
    "    for j in df_final.columns:\n",
    "        if i != j:\n",
    "            sns.scatterplot(x=df_final[i], y=df_final[j])\n",
    "            plt.text(df_final[i].max()-0.01,df_final[j].max(),f\"PC = {round(df_final[i].corr(df_final[j])*100,2)}%; SC = {round(df_final[i].corr(df_final[j], method='spearman')*100,2)}%\")\n",
    "            plt.xlabel(i)\n",
    "            plt.ylabel(j)\n",
    "            plt.title(f'Scatter Plot of {i} vs {j}')\n",
    "            plt.show()"
   ]
  },
  {
   "cell_type": "markdown",
   "id": "18f0ec7c-e12c-45ba-b7ac-b12388022e4e",
   "metadata": {
    "editable": true,
    "papermill": {
     "duration": null,
     "end_time": null,
     "exception": null,
     "start_time": null,
     "status": "pending"
    },
    "slideshow": {
     "slide_type": ""
    },
    "tags": []
   },
   "source": [
    "> - Most of the variables show non-linear relationships. (PC-> Pearson Correlation (Linear Relationship), SC -> Spearman Correlation (Linear & non-linear relationship)) </br>\n",
    "> - A few variables show high variance (states are divided visually) while the others do not. "
   ]
  },
  {
   "cell_type": "markdown",
   "id": "1b667f30-4489-4e20-9394-0b736036002b",
   "metadata": {
    "editable": true,
    "papermill": {
     "duration": null,
     "end_time": null,
     "exception": null,
     "start_time": null,
     "status": "pending"
    },
    "slideshow": {
     "slide_type": ""
    },
    "tags": [
     "hide_input"
    ]
   },
   "source": [
    "### Outliers Detection"
   ]
  },
  {
   "cell_type": "code",
   "execution_count": null,
   "id": "3ccce1b3-2f4c-4c89-af25-23cecc8908a9",
   "metadata": {
    "editable": true,
    "papermill": {
     "duration": null,
     "end_time": null,
     "exception": null,
     "start_time": null,
     "status": "pending"
    },
    "slideshow": {
     "slide_type": ""
    },
    "tags": [
     "hide_input"
    ]
   },
   "outputs": [],
   "source": [
    "# Iterate through the columns of df_scenario1_pct and create a box plot of variables\n",
    "for i in df_final.columns:\n",
    "    sns.boxplot(x=df_final[i])\n",
    "    plt.xlabel(i)\n",
    "    plt.title(f'Box Plot of {i}')\n",
    "    plt.show()\n"
   ]
  },
  {
   "cell_type": "markdown",
   "id": "44c70a82-86f9-408c-b4f4-8e9db3e2cb0b",
   "metadata": {
    "editable": true,
    "papermill": {
     "duration": null,
     "end_time": null,
     "exception": null,
     "start_time": null,
     "status": "pending"
    },
    "slideshow": {
     "slide_type": ""
    },
    "tags": []
   },
   "source": [
    "> All features are showing outliers (States performance). It would be better to use trimmed variance to select the features."
   ]
  },
  {
   "cell_type": "code",
   "execution_count": null,
   "id": "1eab0b74-5166-4ad0-a058-630c3f78cae4",
   "metadata": {
    "editable": true,
    "papermill": {
     "duration": null,
     "end_time": null,
     "exception": null,
     "start_time": null,
     "status": "pending"
    },
    "slideshow": {
     "slide_type": ""
    },
    "tags": [
     "hide_input"
    ]
   },
   "outputs": [],
   "source": [
    "#trimmed variance\n",
    "top_ten_trim_var = df_final.apply(trimmed_var, limits=(0.1,0.1)).sort_values().tail(10)\n",
    "\n",
    "\n",
    "# print(\"top_ten_trim_var type:\", type(top_ten_trim_var))\n",
    "# print(\"top_ten_trim_var shape:\", top_ten_trim_var.shape)\n",
    "#top_ten_trim_var"
   ]
  },
  {
   "cell_type": "code",
   "execution_count": null,
   "id": "50d32068-38a1-42e7-8ec6-f2e0bc5b60c3",
   "metadata": {
    "editable": true,
    "papermill": {
     "duration": null,
     "end_time": null,
     "exception": null,
     "start_time": null,
     "status": "pending"
    },
    "slideshow": {
     "slide_type": ""
    },
    "tags": [
     "hide_input"
    ]
   },
   "outputs": [],
   "source": [
    "#bar plot of trimmed variance\n",
    "\n",
    "fig = px.bar(\n",
    "    x =top_ten_trim_var,\n",
    "    y=top_ten_trim_var.index,\n",
    "    title=\"Top 10 variables with high Variances\",\n",
    "    height=650,\n",
    ")\n",
    "# fig.update_xaxes(type=\"Variables\")\n",
    "# fig.update_yaxes(type =\"Variances\")\n",
    "fig.update_layout(\n",
    "    xaxis_title = \"Variance\",\n",
    "    yaxis_title = \"Features\",\n",
    "    showlegend=False\n",
    ")\n",
    "fig.show()"
   ]
  },
  {
   "cell_type": "markdown",
   "id": "23e7378f-fc90-4103-8b77-ffee422fdd62",
   "metadata": {
    "editable": true,
    "papermill": {
     "duration": null,
     "end_time": null,
     "exception": null,
     "start_time": null,
     "status": "pending"
    },
    "slideshow": {
     "slide_type": ""
    },
    "tags": []
   },
   "source": [
    "### Variable Selection for Clustering"
   ]
  },
  {
   "cell_type": "code",
   "execution_count": null,
   "id": "bd6095ca-09d0-47d0-9fde-5a89a85088e8",
   "metadata": {
    "editable": true,
    "papermill": {
     "duration": null,
     "end_time": null,
     "exception": null,
     "start_time": null,
     "status": "pending"
    },
    "slideshow": {
     "slide_type": ""
    },
    "tags": [
     "hide_input"
    ]
   },
   "outputs": [],
   "source": [
    "#top 4 high variance columns\n",
    "high_var_cols = top_ten_trim_var.tail(4).index.to_list()\n",
    "\n",
    "# print(\"high_var_cols type:\", type(high_var_cols))\n",
    "# print(\"high_var_cols len:\", len(top_ten_trim_var))\n",
    "# high_var_cols"
   ]
  },
  {
   "cell_type": "code",
   "execution_count": null,
   "id": "ab379bdb-d2c0-4354-bb28-ab46b59cb0a5",
   "metadata": {
    "editable": true,
    "papermill": {
     "duration": null,
     "end_time": null,
     "exception": null,
     "start_time": null,
     "status": "pending"
    },
    "slideshow": {
     "slide_type": ""
    },
    "tags": [
     "hide_input"
    ]
   },
   "outputs": [],
   "source": [
    "X = df_final[high_var_cols]\n",
    "#X = X.drop(axis=1)\n",
    "# print(\"X type:\", type(X))\n",
    "# print(\"X shape:\", X.shape)\n",
    "X.style.background_gradient(subset=['State_Area_km_sq', 'Energy_Requirement_MU',\n",
    "       'Plastic_Waste_Generation_TPA','Workers_indu'],cmap=\"Blues\")"
   ]
  },
  {
   "cell_type": "markdown",
   "id": "43355ccd-8641-477b-b699-0e5d90add99c",
   "metadata": {
    "editable": true,
    "papermill": {
     "duration": null,
     "end_time": null,
     "exception": null,
     "start_time": null,
     "status": "pending"
    },
    "slideshow": {
     "slide_type": ""
    },
    "tags": []
   },
   "source": [
    "## Technical Part!"
   ]
  },
  {
   "cell_type": "markdown",
   "id": "e385b0f2-4055-43d6-8999-02521fcb3c98",
   "metadata": {
    "editable": true,
    "papermill": {
     "duration": null,
     "end_time": null,
     "exception": null,
     "start_time": null,
     "status": "pending"
    },
    "slideshow": {
     "slide_type": ""
    },
    "tags": []
   },
   "source": [
    "### No. of Clusters Selection and Final Model"
   ]
  },
  {
   "cell_type": "code",
   "execution_count": null,
   "id": "f76abe52-60da-49e8-80f7-c6716a1adf9d",
   "metadata": {
    "editable": true,
    "papermill": {
     "duration": null,
     "end_time": null,
     "exception": null,
     "start_time": null,
     "status": "pending"
    },
    "slideshow": {
     "slide_type": ""
    },
    "tags": [
     "hide_input"
    ]
   },
   "outputs": [],
   "source": [
    "n_clusters = range(2,13)\n",
    "inertia_list = []\n",
    "silhouette_scores =[]\n",
    "\n",
    "for i in n_clusters:\n",
    "    #build model\n",
    "    model = make_pipeline(StandardScaler(),KMeans(n_clusters=i,random_state=42))\n",
    "    #train model\n",
    "    model.fit(X)\n",
    "    #calculate inertia\n",
    "    inertia_list.append(model.named_steps[\"kmeans\"].inertia_)\n",
    "    silhouette_scores.append(silhouette_score(X,model.named_steps[\"kmeans\"].labels_))\n",
    "\n",
    "# print(\"inertia_errors type:\", type(inertia_list))\n",
    "# print(\"inertia_errors len:\", len(inertia_list))\n",
    "# print(\"Inertia:\", inertia_list)\n",
    "# print()\n",
    "# print(\"silhouette_scores type:\", type(silhouette_scores))\n",
    "# print(\"silhouette_scores len:\", len(silhouette_scores))\n",
    "# print(\"Silhouette Scores:\", silhouette_scores)"
   ]
  },
  {
   "cell_type": "code",
   "execution_count": null,
   "id": "f7ab5ca3-e733-40ff-a655-a38087a7ea2c",
   "metadata": {
    "editable": true,
    "papermill": {
     "duration": null,
     "end_time": null,
     "exception": null,
     "start_time": null,
     "status": "pending"
    },
    "slideshow": {
     "slide_type": ""
    },
    "tags": [
     "hide_input"
    ]
   },
   "outputs": [],
   "source": [
    "# Create line plot of `inertia_errors` vs `n_clusters`\n",
    "fig = px.line(\n",
    "    x=n_clusters,y=inertia_list, title=\"K-Means Model: Inertia VS Number of Clusters\"\n",
    ")\n",
    "fig.update_layout(xaxis_title=\"Number of Clusters (K)\", yaxis_title=\"Inertia\")\n",
    "fig.show()"
   ]
  },
  {
   "cell_type": "code",
   "execution_count": null,
   "id": "247ed6b2-1b4e-4b04-a9bd-8aaa0bd94728",
   "metadata": {
    "editable": true,
    "papermill": {
     "duration": null,
     "end_time": null,
     "exception": null,
     "start_time": null,
     "status": "pending"
    },
    "slideshow": {
     "slide_type": ""
    },
    "tags": [
     "hide_input"
    ]
   },
   "outputs": [],
   "source": [
    "# Create line plot of `silhoutte scores` vs `n_clusters`\n",
    "fig = px.line(\n",
    "    x=n_clusters,y=silhouette_scores, title=\"K-Means Model: Silhouette Scores VS Number of Clusters\"\n",
    ")\n",
    "fig.update_layout(xaxis_title=\"Number of Clusters (K)\", yaxis_title=\"Silhouette Scores\")\n",
    "fig.show()"
   ]
  },
  {
   "cell_type": "markdown",
   "id": "07eca3af-e4c6-4a1c-8a5e-e1dcc0e4b15f",
   "metadata": {
    "editable": true,
    "papermill": {
     "duration": null,
     "end_time": null,
     "exception": null,
     "start_time": null,
     "status": "pending"
    },
    "slideshow": {
     "slide_type": ""
    },
    "tags": []
   },
   "source": [
    "> Considering both the inertia and silhoutte scores, 4 clusters (k=4) would be the best fit for this data."
   ]
  },
  {
   "cell_type": "code",
   "execution_count": null,
   "id": "d7cf7510-8366-40b1-84bc-39f11056bae8",
   "metadata": {
    "editable": true,
    "papermill": {
     "duration": null,
     "end_time": null,
     "exception": null,
     "start_time": null,
     "status": "pending"
    },
    "slideshow": {
     "slide_type": ""
    },
    "tags": [
     "hide_input"
    ]
   },
   "outputs": [],
   "source": [
    "#final model\n",
    "# Build model\n",
    "final_model = make_pipeline(\n",
    "    StandardScaler(),\n",
    "    KMeans(n_clusters=4,random_state=42)\n",
    ")\n",
    "\n",
    "# Fit model to data\n",
    "final_model.fit(X)\n",
    "\n",
    "# # Assert that model has been fit to data\n",
    "# check_is_fitted(final_model)"
   ]
  },
  {
   "cell_type": "code",
   "execution_count": null,
   "id": "0473365f-cae3-4778-a150-82cc0068099b",
   "metadata": {
    "editable": true,
    "papermill": {
     "duration": null,
     "end_time": null,
     "exception": null,
     "start_time": null,
     "status": "pending"
    },
    "slideshow": {
     "slide_type": ""
    },
    "tags": [
     "hide_input"
    ]
   },
   "outputs": [],
   "source": [
    "labels = final_model.named_steps[\"kmeans\"].labels_\n",
    "df_final_wl = pd.concat([df_final.iloc[:-1,:].reset_index(),pd.Series(labels,name=\"Clusters\")],axis=1)\n",
    "df_final_wl.dropna(inplace=True)\n",
    "\n",
    "# print(\"labels type:\", type(labels))\n",
    "# print(\"labels len:\", len(labels))\n",
    "# print(labels[:5])"
   ]
  },
  {
   "cell_type": "code",
   "execution_count": null,
   "id": "db93965f-6ccb-446d-bfa4-41769b0ca822",
   "metadata": {
    "editable": true,
    "papermill": {
     "duration": null,
     "end_time": null,
     "exception": null,
     "start_time": null,
     "status": "pending"
    },
    "scrolled": true,
    "slideshow": {
     "slide_type": ""
    },
    "tags": [
     "hide_input"
    ]
   },
   "outputs": [],
   "source": [
    "df_final_wl.Clusters =df_final_wl.Clusters.astype(str)\n",
    "# df_final_wl.dtypes"
   ]
  },
  {
   "cell_type": "code",
   "execution_count": null,
   "id": "ec4e5e6b-66d6-4a1e-9bee-4d06f173b1c9",
   "metadata": {
    "editable": true,
    "papermill": {
     "duration": null,
     "end_time": null,
     "exception": null,
     "start_time": null,
     "status": "pending"
    },
    "slideshow": {
     "slide_type": ""
    },
    "tags": [
     "hide_input"
    ]
   },
   "outputs": [],
   "source": [
    "\n",
    "# Instantiate transformer\n",
    "pca = PCA(n_components=4, random_state=42)\n",
    "pca.fit(X)\n",
    "X_t = pca.transform(X)\n",
    "cols = [\"PC1\", \"PC2\", \"PC3\", \"PC4\"]\n",
    "\n",
    "\n"
   ]
  },
  {
   "cell_type": "code",
   "execution_count": null,
   "id": "013852b2-b51f-4746-b0e0-d58c6f3c6c18",
   "metadata": {
    "editable": true,
    "papermill": {
     "duration": null,
     "end_time": null,
     "exception": null,
     "start_time": null,
     "status": "pending"
    },
    "slideshow": {
     "slide_type": ""
    },
    "tags": [
     "hide_input"
    ]
   },
   "outputs": [],
   "source": [
    "\n",
    "print(f\"Variable Selection through PC:\\n\")\n",
    "pc_var = pd.DataFrame(pca.components_.T, index=list(X.columns), columns=cols)\n",
    "def max_color(s):\n",
    "    is_max = s==s.max()\n",
    "    return [ 'background-color: blue' if v==True else '' for v in is_max]\n",
    "\n",
    "pc_var.style.apply(max_color)"
   ]
  },
  {
   "cell_type": "markdown",
   "id": "e92fc1a9-8ff6-4518-87d8-a0868c48183a",
   "metadata": {
    "editable": true,
    "papermill": {
     "duration": null,
     "end_time": null,
     "exception": null,
     "start_time": null,
     "status": "pending"
    },
    "slideshow": {
     "slide_type": ""
    },
    "tags": []
   },
   "source": [
    ">**PC1 is an approximate for Industrial Workers.** </br>\n",
    ">**PC2 is an approximate for Plastic Waste Generation.** </br>\n",
    ">**PC3 is an approximate for State Area.** </br>"
   ]
  },
  {
   "cell_type": "code",
   "execution_count": null,
   "id": "0a026a5c-0231-4ec0-a215-04bf563169c1",
   "metadata": {
    "editable": true,
    "papermill": {
     "duration": null,
     "end_time": null,
     "exception": null,
     "start_time": null,
     "status": "pending"
    },
    "slideshow": {
     "slide_type": ""
    },
    "tags": [
     "hide_input"
    ]
   },
   "outputs": [],
   "source": [
    "table_var_exp = pd.DataFrame(list(np.cumsum(pca.explained_variance_ratio_)),index=cols, columns=[\"Explained_variances\"]).T\n",
    "print(f\"Cumulative % of total variance explained by PC:\\n{table_var_exp}\")"
   ]
  },
  {
   "cell_type": "markdown",
   "id": "7230ab80-ab6a-43a5-b8af-2d53fa20019e",
   "metadata": {
    "editable": true,
    "papermill": {
     "duration": null,
     "end_time": null,
     "exception": null,
     "start_time": null,
     "status": "pending"
    },
    "slideshow": {
     "slide_type": ""
    },
    "tags": []
   },
   "source": [
    ">**PC1 and PC2 (principal componenets) explains 98% variation in the data**"
   ]
  },
  {
   "cell_type": "markdown",
   "id": "395181da-5188-43bb-abb1-2e0b43f9b1f5",
   "metadata": {
    "editable": true,
    "papermill": {
     "duration": null,
     "end_time": null,
     "exception": null,
     "start_time": null,
     "status": "pending"
    },
    "slideshow": {
     "slide_type": ""
    },
    "tags": []
   },
   "source": [
    "### Compare Average Clusters"
   ]
  },
  {
   "cell_type": "code",
   "execution_count": null,
   "id": "f66d1cb5-87b0-4606-9a85-078f389831e8",
   "metadata": {
    "editable": true,
    "papermill": {
     "duration": null,
     "end_time": null,
     "exception": null,
     "start_time": null,
     "status": "pending"
    },
    "slideshow": {
     "slide_type": ""
    },
    "tags": [
     "hide_input"
    ]
   },
   "outputs": [],
   "source": [
    "xgb = pd.DataFrame(X.groupby(labels).mean()).reset_index()\n",
    "xgb.columns = ['Clusters', 'Energy_Requirement_MU', 'State_Area_km_sq',\n",
    "       'Plastic_Waste_Generation_TPA', 'Workers_indu']\n",
    "# print(\"xgb type:\", type(xgb))\n",
    "# print(\"xgb shape:\", xgb.shape)\n",
    "# xgb"
   ]
  },
  {
   "cell_type": "code",
   "execution_count": null,
   "id": "5d6fb2cf-2504-456b-90ba-eeb17666e758",
   "metadata": {
    "editable": true,
    "papermill": {
     "duration": null,
     "end_time": null,
     "exception": null,
     "start_time": null,
     "status": "pending"
    },
    "scrolled": true,
    "slideshow": {
     "slide_type": ""
    },
    "tags": [
     "hide_input"
    ]
   },
   "outputs": [],
   "source": [
    "# Melt the DataFrame to long format (if needed)\n",
    "xgb_melted = xgb.melt(id_vars=\"Clusters\", var_name=\"Characteristics\", value_name=\"Values\")\n",
    "#xgb_melted"
   ]
  },
  {
   "cell_type": "code",
   "execution_count": null,
   "id": "2e4c449e-4ac1-49f2-b04c-26213c7c84ac",
   "metadata": {
    "editable": true,
    "papermill": {
     "duration": null,
     "end_time": null,
     "exception": null,
     "start_time": null,
     "status": "pending"
    },
    "slideshow": {
     "slide_type": ""
    },
    "tags": [
     "hide_input"
    ]
   },
   "outputs": [],
   "source": [
    "\n",
    "\n",
    "# Create side-by-side bar chart to compare clusters\n",
    "fig = px.bar(\n",
    "    xgb_melted,\n",
    "    x=\"Clusters\",  # Set the x-axis to the clusters\n",
    "    y=\"Values\",  # Set the y-axis to the values\n",
    "    color=\"Characteristics\",  # Group by state for side-by-side bars\n",
    "    barmode=\"group\",  # Grouped bar mode\n",
    "    title=\"States by Cluster\",\n",
    "    width=1100,\n",
    "    height=450\n",
    ")\n",
    "fig.update_layout(xaxis_title=\"clusters\",yaxis_title=\"Value [$]\")\n",
    "fig.show()"
   ]
  },
  {
   "cell_type": "code",
   "execution_count": null,
   "id": "fbb16ac3-edbc-405d-a8ab-f3a730f2729e",
   "metadata": {
    "editable": true,
    "papermill": {
     "duration": null,
     "end_time": null,
     "exception": null,
     "start_time": null,
     "status": "pending"
    },
    "slideshow": {
     "slide_type": ""
    },
    "tags": [
     "hide_input"
    ]
   },
   "outputs": [],
   "source": [
    "test_xgb = xgb.copy()\n",
    "test_xgb[\"Energy_per_ind_worker\"] = test_xgb[\"Energy_Requirement_MU\"]/test_xgb[\"Workers_indu\"]\n",
    "test_xgb[\"Plastic_waste_per_ind_worker\"] = test_xgb[\"Plastic_Waste_Generation_TPA\"]/test_xgb[\"Workers_indu\"]\n",
    "test_xgb[\"Plastic_waste_per_area\"] = test_xgb[\"Plastic_Waste_Generation_TPA\"]/test_xgb[\"State_Area_km_sq\"]\n",
    "test_xgb[\"Energy_per_area\"] = test_xgb[\"Energy_Requirement_MU\"]/test_xgb[\"State_Area_km_sq\"]\n",
    "test_xgb[\"Workers_per_area\"] = test_xgb[\"Workers_indu\"]/test_xgb[\"State_Area_km_sq\"]\n",
    "test_xgb[\"Plastic_waste_per_Energy\"] = test_xgb[\"Plastic_Waste_Generation_TPA\"]/test_xgb[\"Energy_Requirement_MU\"]\n",
    "test_xgb.style.background_gradient(subset = ['Clusters', 'Energy_Requirement_MU', 'State_Area_km_sq',\n",
    "       'Plastic_Waste_Generation_TPA', 'Workers_indu', 'Energy_per_ind_worker',\n",
    "       'Plastic_waste_per_ind_worker', 'Plastic_waste_per_area',\n",
    "       'Energy_per_area', 'Workers_per_area', 'Plastic_waste_per_Energy'],cmap=\"Blues\")"
   ]
  },
  {
   "cell_type": "markdown",
   "id": "21d9e73a-082b-4937-9a63-b7303bb36e58",
   "metadata": {
    "editable": true,
    "papermill": {
     "duration": null,
     "end_time": null,
     "exception": null,
     "start_time": null,
     "status": "pending"
    },
    "slideshow": {
     "slide_type": ""
    },
    "tags": []
   },
   "source": [
    "***Comparing Clusters*** </br>\n",
    ">1. **Cluster 0** - States under Cluster 0 exhibit the below properties, </br>\n",
    ">   a. Low Energy Requirement, Small Geographic Area (in $Km^2$), Minimal Plastic Waste Generated and Few Industrial Workers as compared to states in other clusters.</br>\n",
    ">   b. Energy per industrial worker and Plastic waste per Industrial worker are 2nd highest (Large) among states of other clusters.</br>\n",
    ">   c. Lowest worker and Energy per area (in $Km^2$). </br></br>\n",
    "> **So, Cluster 0 includes small states with the lowest worker & Energy per square KM and 2nd highest Plastic waste per Industrial Worker.** </br>\n",
    "\n",
    ">2. **Cluster 1** - States under Cluster 1 exhibit the below properties, </br>\n",
    ">   a. 2nd highest (Large level) Energy Requirement, Highest Geographical Area (in $Km^2$), Medium level of Plastic Waste Generated and Large level of Industrial Workers as compared to states in other clusters.</br>\n",
    ">   b. Energy per industrial worker is highest which shows energy-intensive industries. Lowest Plastic waste per Industrial worker and plastic waste per area (in $Km^2$).</br>\n",
    ">   c. Lowest Plastic waste per Energy required. </br></br>\n",
    "> **So, Cluster 1 includes the highest states per area (in $Km^2$) with energy-intensive industries that generate the lowest plastic waste per worker, energy and area.** </br>\n",
    "\n",
    ">3. **Cluster 2** - States under Cluster 2 exhibit the below properties, </br>\n",
    ">   a. Highest level of Energy Requirement, 2nd Highest Geographical Area (in $Km^2$), 2nd highest Plastic Waste Generated and the highest level of Industrial Workers as compared to states in other clusters.</br>\n",
    ">   b. Energy per industrial worker is the lowest. Medium level of Plastic waste per Industrial worker and 2nd highest level of plastic waste per area (in $Km^2$).</br>\n",
    ">   c. Highest Worker and Energy per area. </br></br>\n",
    "> **So, Cluster 2 includes the 2nd highest states per area (in $Km^2$) with the lowest energy per worker and highest energy and worker per area. Somewhat high plastic waste per worker, energy and area.** </br>\n",
    "\n",
    ">4. **Cluster 3** - States under Cluster 3 exhibit the below properties, </br>\n",
    ">   a. Medium level of Energy Requirement and Geographical Area (in $Km^2$), highest level of Plastic Waste Generated and medium level of Industrial Workers as compared to states in other clusters.</br>\n",
    ">   b. Medium level of Energy per industrial worker.</br>\n",
    ">   c. Highest level of Plastic waste per Industrial worker, per area (in $Km^2$) and per Energy. </br></br>\n",
    "> **So, Cluster 3 includes states with high plastic waste, plastic waste per Industrial worker, per area (in $Km^2$) and per Energy.** </br>\n",
    "\n",
    "<mark>**Note: Clusters are described in the Ordered ranking of - 1. Extra Large/Larger (Highest), 2. Large (2nd Highest), 3. Medium (2nd Lowest), and 4. Lowest**</mark>"
   ]
  },
  {
   "cell_type": "markdown",
   "id": "140a28c4-d2b6-4082-b9bd-f817cd165381",
   "metadata": {
    "editable": true,
    "papermill": {
     "duration": null,
     "end_time": null,
     "exception": null,
     "start_time": null,
     "status": "pending"
    },
    "slideshow": {
     "slide_type": ""
    },
    "tags": []
   },
   "source": [
    "**From the above analysis, We can rename the clusters as:** </br></br>\n",
    "**1. Cluster 0 -> Small and less Resource States**</br>\n",
    "**2. Cluster 1 -> Large and Efficient States**</br>\n",
    "**3. Cluster 2 -> Large and Resourceful States**</br>\n",
    "**4. Cluster 3 -> Medium and Inefficient States**</br>"
   ]
  },
  {
   "cell_type": "markdown",
   "id": "b1f27338-0831-4bfc-803a-f65afe45ac16",
   "metadata": {
    "editable": true,
    "papermill": {
     "duration": null,
     "end_time": null,
     "exception": null,
     "start_time": null,
     "status": "pending"
    },
    "slideshow": {
     "slide_type": ""
    },
    "tags": []
   },
   "source": [
    "### Plastic waste vs Industrial Workers"
   ]
  },
  {
   "cell_type": "code",
   "execution_count": null,
   "id": "5e36822d-2d45-4700-8680-3fb4d6a9d58c",
   "metadata": {
    "editable": true,
    "papermill": {
     "duration": null,
     "end_time": null,
     "exception": null,
     "start_time": null,
     "status": "pending"
    },
    "slideshow": {
     "slide_type": ""
    },
    "tags": [
     "hide_input"
    ]
   },
   "outputs": [],
   "source": [
    "fig = px.scatter(\n",
    "    data_frame=df_final_wl,\n",
    "    x='Workers_indu',\n",
    "    y='Plastic_Waste_Generation_TPA',\n",
    "    color=\"Clusters\",\n",
    "    hover_data='State_UTs',\n",
    "    height=600,\n",
    "    title=\"Plastic Waste Generation VS No. of Industrial Worker by State wise Clusters\"\n",
    ")\n",
    "fig.update_layout(xaxis_title=\"No. of Industrial Workers\",yaxis_title=\"Plastic Waste Generation (in TPA)\")\n",
    "fig.show()"
   ]
  },
  {
   "cell_type": "code",
   "execution_count": null,
   "id": "25c01723-2d1f-4370-a2cc-123f6358f2da",
   "metadata": {
    "editable": true,
    "papermill": {
     "duration": null,
     "end_time": null,
     "exception": null,
     "start_time": null,
     "status": "pending"
    },
    "slideshow": {
     "slide_type": ""
    },
    "tags": [
     "hide_input"
    ]
   },
   "outputs": [],
   "source": [
    "#df_final_wl.groupby(by=[\"Clusters\"])[\"State_UTs\"].count()"
   ]
  },
  {
   "cell_type": "markdown",
   "id": "de7b6acf-0fd7-47ec-8c2f-f162152c5604",
   "metadata": {
    "editable": true,
    "papermill": {
     "duration": null,
     "end_time": null,
     "exception": null,
     "start_time": null,
     "status": "pending"
    },
    "slideshow": {
     "slide_type": ""
    },
    "tags": []
   },
   "source": [
    "**Red Dots -> Cluster 0** -> Small and less Resource States -> Less Plastic waste and no. of Industrial Workers -> **23 States/UTs**</br>\n",
    "**Blue Dots -> Cluster 1** -> Large and Efficient States -> Less Plastic Waste and considerably high no. of Industrial Workers -> **4 States/UTs**</br>\n",
    "**Purple Dots -> Cluster 2** -> Large and Resourceful States -> Large amount of Plastic Waste with large no. of industrial workers -> **3 States/UTs**</br>\n",
    "**Green Dots -> Cluster 3** -> Medium and Inefficient States -> Large amount of Plastic Waste with less no. of industrial workers -> **6 States/UTs**</br>"
   ]
  },
  {
   "cell_type": "markdown",
   "id": "b0d59313-b59a-423a-b630-13867e09edf6",
   "metadata": {
    "editable": true,
    "papermill": {
     "duration": null,
     "end_time": null,
     "exception": null,
     "start_time": null,
     "status": "pending"
    },
    "slideshow": {
     "slide_type": ""
    },
    "tags": []
   },
   "source": [
    "### Plastic Waste Generation VS State Area"
   ]
  },
  {
   "cell_type": "code",
   "execution_count": null,
   "id": "bf1e29ac-bb7d-431a-b7fa-98e3771b95bf",
   "metadata": {
    "editable": true,
    "papermill": {
     "duration": null,
     "end_time": null,
     "exception": null,
     "start_time": null,
     "status": "pending"
    },
    "slideshow": {
     "slide_type": ""
    },
    "tags": [
     "hide_input"
    ]
   },
   "outputs": [],
   "source": [
    "fig = px.scatter(\n",
    "    data_frame=df_final_wl,\n",
    "    x='State_Area_km_sq',\n",
    "    y='Plastic_Waste_Generation_TPA',\n",
    "    color=\"Clusters\",\n",
    "    hover_data='State_UTs',\n",
    "    height=650,\n",
    "    title=f\"Plastic Waste Generation VS State Area (in Km Square) by State wise Clusters\"\n",
    ")\n",
    "fig.update_layout(xaxis_title=f\"State Area (in Km Square)\",yaxis_title=\"Plastic Waste Generation (in TPA)\")\n",
    "fig.show()"
   ]
  },
  {
   "cell_type": "markdown",
   "id": "bebaaeb8-76d1-42f0-a9ec-d6301bd7e033",
   "metadata": {
    "editable": true,
    "papermill": {
     "duration": null,
     "end_time": null,
     "exception": null,
     "start_time": null,
     "status": "pending"
    },
    "slideshow": {
     "slide_type": ""
    },
    "tags": []
   },
   "source": [
    "**Red Dots -> Cluster 0** -> Small and less Resource States -> Less Plastic waste and small State Area (in $Km^2$) -> **23 States/UTs**</br>\n",
    "**Blue Dots -> Cluster 1** -> Large and Efficient States -> Less Plastic Waste and Large State Area (in $Km^2$) -> **4 States/UTs**</br>\n",
    "**Purple Dots -> Cluster 2** -> Large and Resourceful States -> Large amount of Plastic Waste with considerably large State Area (in $Km^2$) -> **3 States/UTs**</br>\n",
    "**Green Dots -> Cluster 3** -> Medium and Inefficient States -> Large amount of Plastic Waste with small to medium State Area (in $Km^2$) -> **6 States/UTs**</br>"
   ]
  },
  {
   "cell_type": "markdown",
   "id": "41ba2a1b-6d1a-4b48-ab5d-efacf22aeb3f",
   "metadata": {
    "editable": true,
    "papermill": {
     "duration": null,
     "end_time": null,
     "exception": null,
     "start_time": null,
     "status": "pending"
    },
    "slideshow": {
     "slide_type": ""
    },
    "tags": []
   },
   "source": [
    "### Industrial Workers VS State Area"
   ]
  },
  {
   "cell_type": "code",
   "execution_count": null,
   "id": "b9f365de-3225-4b4c-b5df-324d912bde86",
   "metadata": {
    "editable": true,
    "papermill": {
     "duration": null,
     "end_time": null,
     "exception": null,
     "start_time": null,
     "status": "pending"
    },
    "slideshow": {
     "slide_type": ""
    },
    "tags": [
     "hide_input"
    ]
   },
   "outputs": [],
   "source": [
    "fig = px.scatter(\n",
    "    data_frame=df_final_wl,\n",
    "    x='State_Area_km_sq',\n",
    "    y='Workers_indu',\n",
    "    color=\"Clusters\",\n",
    "    hover_data='State_UTs',\n",
    "    height=650,\n",
    "    title=f\"Number of Industrial Workers VS State Area (in Km Square) by State wise Clusters\"\n",
    ")\n",
    "fig.update_layout(xaxis_title=f\"State Area (in Km Square)\",yaxis_title=\"No. of Industrial Workers\")\n",
    "fig.show()"
   ]
  },
  {
   "cell_type": "markdown",
   "id": "07471688-10ea-465e-b1a9-9d08bbf47def",
   "metadata": {
    "editable": true,
    "papermill": {
     "duration": null,
     "end_time": null,
     "exception": null,
     "start_time": null,
     "status": "pending"
    },
    "slideshow": {
     "slide_type": ""
    },
    "tags": []
   },
   "source": [
    "**Red Dots -> Cluster 0** -> Small and less Resource States -> Less No. of Industrial Workers and small to medium State Area (in $Km^2$) -> **23 States/UTs** </br>\n",
    "**Blue Dots -> Cluster 1** -> Large and Efficient States -> Medium level of No. of Industrial Workers and Large State Area (in $Km^2$) -> **4 States/UTs** </br>\n",
    "**Purple Dots -> Cluster 2** -> Large and Resourceful States -> Large No. of Industrial Workers with considerably large State Area (in $Km^2$) -> **3 States/UTs**</br>\n",
    "**Green Dots -> Cluster 3** -> Medium and Inefficient States -> Small to Medium level of No. of Industrial Workers with small to medium State Area (in $Km^2$) -> **6 States/UTs**</br>"
   ]
  }
 ],
 "metadata": {
  "kernelspec": {
   "display_name": "Python 3 (ipykernel)",
   "language": "python",
   "name": "python3"
  },
  "language_info": {
   "codemirror_mode": {
    "name": "ipython",
    "version": 3
   },
   "file_extension": ".py",
   "mimetype": "text/x-python",
   "name": "python",
   "nbconvert_exporter": "python",
   "pygments_lexer": "ipython3",
   "version": "3.12.1"
  },
  "papermill": {
   "default_parameters": {},
   "duration": 5.691317,
   "end_time": "2024-09-19T09:00:24.659133",
   "environment_variables": {},
   "exception": true,
   "input_path": "clustering_States.ipynb",
   "output_path": "clustering_states_v2.ipynb",
   "parameters": {},
   "start_time": "2024-09-19T09:00:18.967816",
   "version": "2.6.0"
  }
 },
 "nbformat": 4,
 "nbformat_minor": 5
}