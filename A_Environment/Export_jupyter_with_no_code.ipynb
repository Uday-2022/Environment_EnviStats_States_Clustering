{
 "cells": [
  {
   "cell_type": "code",
   "execution_count": 3,
   "id": "ea0185a3-9682-4f05-86a2-cdc24e83a4ac",
   "metadata": {},
   "outputs": [],
   "source": [
    "from nbformat import read, write\n",
    "\n",
    "# Load the notebook\n",
    "with open('clustering_States.ipynb', 'r', encoding='utf-8') as f:\n",
    "    nb = read(f, as_version=4)\n",
    "\n",
    "# Step 1: Remove code from code cells but keep outputs\n",
    "for cell in nb.cells:\n",
    "    if cell.cell_type == 'code':\n",
    "        # Remove input code from code cells\n",
    "        cell['source'] = ''\n",
    "\n",
    "# Step 2: Filter out any cells that are now completely empty (no code and no output)\n",
    "new_cells = []\n",
    "for cell in nb.cells:\n",
    "    if cell.cell_type == 'code':\n",
    "        # Only keep code cells if they have outputs\n",
    "        if 'outputs' in cell and cell['outputs']:\n",
    "            new_cells.append(cell)\n",
    "    else:\n",
    "        # Keep all non-code cells (markdown, etc.)\n",
    "        new_cells.append(cell)\n",
    "\n",
    "# Replace the original notebook cells with the filtered cells\n",
    "nb.cells = new_cells\n",
    "\n",
    "# Save the modified notebook as a new file\n",
    "with open('clustering_States_no_code.ipynb', 'w', encoding='utf-8') as f:\n",
    "    write(nb, f)\n"
   ]
  },
  {
   "cell_type": "code",
   "execution_count": null,
   "id": "2943da17-bc22-4dbe-a200-3266990982f2",
   "metadata": {},
   "outputs": [],
   "source": []
  }
 ],
 "metadata": {
  "kernelspec": {
   "display_name": "Python 3 (ipykernel)",
   "language": "python",
   "name": "python3"
  },
  "language_info": {
   "codemirror_mode": {
    "name": "ipython",
    "version": 3
   },
   "file_extension": ".py",
   "mimetype": "text/x-python",
   "name": "python",
   "nbconvert_exporter": "python",
   "pygments_lexer": "ipython3",
   "version": "3.12.1"
  }
 },
 "nbformat": 4,
 "nbformat_minor": 5
}
